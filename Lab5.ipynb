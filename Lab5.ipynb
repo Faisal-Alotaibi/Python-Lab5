{
 "cells": [
  {
   "cell_type": "code",
   "execution_count": 21,
   "metadata": {},
   "outputs": [
    {
     "name": "stdout",
     "output_type": "stream",
     "text": [
      "[10, 9, 8, 7, 6, 5, 4, 3, 2, 1]\n",
      "[9, 8, 7, 6, 5, 4, 3, 2, 1]\n",
      "[8, 7, 6, 5, 4, 3, 2, 1]\n",
      "[7, 6, 5, 4, 3, 2, 1]\n",
      "[6, 5, 4, 3, 2, 1]\n",
      "[5, 4, 3, 2, 1]\n",
      "[4, 3, 2, 1]\n",
      "[3, 2, 1]\n",
      "[2, 1]\n",
      "[1]\n"
     ]
    }
   ],
   "source": [
    "num = int(input(\"Enter number:\"))\n",
    "\n",
    "\n",
    "def reverseNumber(n):\n",
    "    list = []\n",
    "    i=1\n",
    "    #populate list\n",
    "    while i!=n+1:\n",
    "        list.append(i)\n",
    "        #print(i)\n",
    "        i = i+1\n",
    "    \n",
    "    \n",
    "    j=0\n",
    "    list.reverse()\n",
    "    print(list)\n",
    "    #reverse display\n",
    "    while True:\n",
    "        \n",
    "        if list[j]!=1:\n",
    "            list.pop(0)\n",
    "            print(list)\n",
    "        else:\n",
    "            break\n",
    "    \n",
    "    \n",
    "        \n",
    "reverseNumber(num)"
   ]
  }
 ],
 "metadata": {
  "kernelspec": {
   "display_name": "Python 3",
   "language": "python",
   "name": "python3"
  },
  "language_info": {
   "codemirror_mode": {
    "name": "ipython",
    "version": 3
   },
   "file_extension": ".py",
   "mimetype": "text/x-python",
   "name": "python",
   "nbconvert_exporter": "python",
   "pygments_lexer": "ipython3",
   "version": "3.11.6"
  }
 },
 "nbformat": 4,
 "nbformat_minor": 2
}
